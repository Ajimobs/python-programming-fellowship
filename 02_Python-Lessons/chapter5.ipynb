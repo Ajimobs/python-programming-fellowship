{
 "cells": [
  {
   "cell_type": "markdown",
   "metadata": {},
   "source": [
    "# **IF STATEMENTS**"
   ]
  },
  {
   "cell_type": "markdown",
   "metadata": {},
   "source": [
    "## At the end of this lesson, we would understand:\n",
    "- Learn to write **conditional tests** to check conditions of interest.  \n",
    "- Understand how to write **simple if statements**.  \n",
    "- Create more complex **series of if statements** to identify specific conditions.  \n",
    "- Apply conditional logic to **lists**.  \n",
    "- Write **for loops** that handle most items in a list one way but treat specific items differently.  "
   ]
  },
  {
   "cell_type": "markdown",
   "metadata": {},
   "source": [
    "## A Simple Example\n",
    "\n",
    "Let's say you have been assigned a task to print the all the items the cars list below:\n",
    "cars = ['audi', 'bmw', 'subaru', 'toyota']\n",
    "\n",
    "```python\n",
    "cars = ['audi', 'bmw', 'subaru', 'toyota']\n",
    "```\n",
    "- But you must print the car `bmw` all in caps when encountered, while the rest in shall be printed in Title case.\n",
    "\n",
    "<img src=\"../assets/simple-if-else-statement.png\" width=\"60%\">\n",
    "  \n"
   ]
  },
  {
   "cell_type": "code",
   "execution_count": 1,
   "metadata": {},
   "outputs": [
    {
     "name": "stdout",
     "output_type": "stream",
     "text": [
      "Audi\n",
      "BMW\n",
      "Subaru\n",
      "Toyota\n"
     ]
    }
   ],
   "source": [
    "cars = ['audi', 'bmw', 'subaru', 'toyota']\n",
    "for car in cars:\n",
    "    if car == 'bmw':\n",
    "        print(car.upper())\n",
    "    else:\n",
    "        print(car.title())"
   ]
  },
  {
   "cell_type": "markdown",
   "metadata": {},
   "source": [
    "## Conditional Tests\n",
    "- At the heart of every if statement is an expression that can be evaluated as `True` or `False` and is called a conditional test. \n",
    "- Python uses the values `True` and `False` to decide whether the code in an if statement should be executed. \n",
    "- If a conditional test evaluates to `True`, Python executes the code following the if statement. \n",
    "- If the test evaluates to `False`, Python ignores the code following the if statement."
   ]
  },
  {
   "cell_type": "markdown",
   "metadata": {},
   "source": [
    "### Checking for Equality\n",
    "- Most conditional tests compare the current value of a variable to a specific value of interest. \n",
    "- The simplest conditional test checks whether the value of a variable is equal to the value of interest:"
   ]
  },
  {
   "cell_type": "code",
   "execution_count": 2,
   "metadata": {},
   "outputs": [
    {
     "name": "stdout",
     "output_type": "stream",
     "text": [
      "True\n"
     ]
    }
   ],
   "source": [
    "car = 'bmw'\n",
    "print(car == 'bmw')"
   ]
  },
  {
   "cell_type": "code",
   "execution_count": 3,
   "metadata": {},
   "outputs": [
    {
     "name": "stdout",
     "output_type": "stream",
     "text": [
      "False\n"
     ]
    }
   ],
   "source": [
    "car = 'audi'\n",
    "print(car == 'bmw')"
   ]
  },
  {
   "cell_type": "markdown",
   "metadata": {},
   "source": [
    "## Ignoring Case When Checking for Equality\n",
    "Testing for equality is case sensitive in Python. \n",
    "\n",
    "For example, two values with different capitalization are not considered equal:"
   ]
  },
  {
   "cell_type": "code",
   "execution_count": 4,
   "metadata": {},
   "outputs": [
    {
     "name": "stdout",
     "output_type": "stream",
     "text": [
      "False\n"
     ]
    }
   ],
   "source": [
    "car = 'Audi'\n",
    "print(car == 'audi')"
   ]
  },
  {
   "cell_type": "code",
   "execution_count": 5,
   "metadata": {},
   "outputs": [
    {
     "name": "stdout",
     "output_type": "stream",
     "text": [
      "True\n"
     ]
    }
   ],
   "source": [
    "car = 'Audi'\n",
    "print(car.lower() == 'audi')"
   ]
  },
  {
   "cell_type": "markdown",
   "metadata": {},
   "source": [
    "### The lower() method doesn’t change\n",
    "the value that was originally stored in car, so you can do this kind of comparison without affecting the original variable:"
   ]
  },
  {
   "cell_type": "code",
   "execution_count": 6,
   "metadata": {},
   "outputs": [
    {
     "name": "stdout",
     "output_type": "stream",
     "text": [
      "True\n"
     ]
    }
   ],
   "source": [
    "car = 'Audi'\n",
    "print(car.lower() == 'audi')"
   ]
  },
  {
   "cell_type": "code",
   "execution_count": 7,
   "metadata": {},
   "outputs": [
    {
     "name": "stdout",
     "output_type": "stream",
     "text": [
      "Audi\n"
     ]
    }
   ],
   "source": [
    "print(car)"
   ]
  },
  {
   "cell_type": "markdown",
   "metadata": {},
   "source": [
    "# Checking for Inequality TO CONTINUE..."
   ]
  },
  {
   "cell_type": "markdown",
   "metadata": {},
   "source": []
  },
  {
   "cell_type": "markdown",
   "metadata": {},
   "source": []
  },
  {
   "cell_type": "markdown",
   "metadata": {},
   "source": []
  },
  {
   "cell_type": "markdown",
   "metadata": {},
   "source": [
    "## Summary\n",
    "- In this chapter you:\n",
    "  - Learned how to write **conditional tests** that evaluate to `True` or `False`.  \n",
    "  - Practiced writing **simple if statements**, **if-else chains**, and **if-elif-else chains**.  \n",
    "  - Used conditional structures to identify and test specific conditions in programs.  \n",
    "  - Learned how to handle specific items in a **list** differently while maintaining the efficiency of a **for loop**.  \n",
    "  - Revisited Python’s **style recommendations** to ensure complex programs remain readable and understandable.  \n"
   ]
  }
 ],
 "metadata": {
  "kernelspec": {
   "display_name": "nlptools",
   "language": "python",
   "name": "python3"
  },
  "language_info": {
   "codemirror_mode": {
    "name": "ipython",
    "version": 3
   },
   "file_extension": ".py",
   "mimetype": "text/x-python",
   "name": "python",
   "nbconvert_exporter": "python",
   "pygments_lexer": "ipython3",
   "version": "3.12.7"
  }
 },
 "nbformat": 4,
 "nbformat_minor": 2
}
