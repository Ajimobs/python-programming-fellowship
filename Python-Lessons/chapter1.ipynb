{
 "cells": [
  {
   "cell_type": "markdown",
   "id": "996e11bb",
   "metadata": {},
   "source": [
    "\n",
    "# Chapter 1: Getting Started\n",
    "\n",
    "## Objectives\n",
    "By the end of this chapter, you will be able to:\n",
    "- Verify if Python is installed on your system and check its version.\n",
    "- Install Python and set up your development environment.\n",
    "- Understand the different ways to run Python code, including using the command line and Python interpreters.\n",
    "- Write and execute simple Python programs.\n",
    "- Recognize the importance of using Python 3 over Python 2.\n"
   ]
  },
  {
   "cell_type": "markdown",
   "metadata": {},
   "source": [
    "## Python Editor (VSCode Editor)\n",
    "\n",
    "- Vscode , Atom , JupterLab , PyCharm , Spyder\n",
    "  \n",
    "- VScode\n",
    "   - Clone Repo (Arewa python programming)\n",
    "   - Markdown\n",
    "   - PDF\n",
    "   - Pull remote changes\n",
    "   - Create new Assigment Repo\n",
    "     - clone it\n",
    "     - add folders\n",
    "   - Create a workshpace and Save"
   ]
  },
  {
   "cell_type": "markdown",
   "metadata": {},
   "source": [
    "## Python Version?\n",
    "\n",
    "- CommandLine python -V or python --version\n",
    "  \n",
    "- Why care about the version?\n",
    "\n",
    "- version 2 versus version 3\n",
    "  \n",
    "  - Python 2 is no longer supported \n"
   ]
  },
  {
   "cell_type": "code",
   "execution_count": 2,
   "metadata": {},
   "outputs": [
    {
     "name": "stdout",
     "output_type": "stream",
     "text": [
      "Python 3.9.13\n"
     ]
    }
   ],
   "source": [
    "# how to check python version in notebook (this is called comment)\n",
    "!python --version"
   ]
  },
  {
   "cell_type": "code",
   "execution_count": 3,
   "metadata": {},
   "outputs": [
    {
     "name": "stdout",
     "output_type": "stream",
     "text": [
      "3.9.13 | packaged by conda-forge | (main, May 27 2022, 17:01:00) \n",
      "[Clang 13.0.1 ]\n"
     ]
    }
   ],
   "source": [
    "# Check Python Version Using Python Code\n",
    "import sys # import system module\n",
    "\n",
    "# Print the Python version using sys module\n",
    "print(sys.version)"
   ]
  },
  {
   "cell_type": "markdown",
   "metadata": {},
   "source": [
    "## How to run python code\n"
   ]
  },
  {
   "cell_type": "markdown",
   "metadata": {},
   "source": [
    "###  Python Interpreter\n",
    "\n",
    "Python Interpreter from terminal: The most basic way to execute Python code is line by line within the Python interpreter. This can be started by typing python at the command prompt: <br><br>\n",
    "   \n",
    "   - type `python` to start the interpreter  <br><br>\n",
    "   - type `1+2`    <br><br>\n",
    "   - type print(\"Hello World\")  <br><br>\n",
    "  \n",
    "\n",
    "###  IPython Interpreter\n",
    "\n",
    "The IPython interpreter: An exhnace python interpreter called IPython (for Interactive Python) is bundled with the Anaconda distribution, and includes a host of convenient enhancements to the basic Python interpreter. It can be started by typing ipython at the command prompt: <br><br>\n",
    "\n",
    "      - type `IPython` to start the Ipython interpreter   <br><br>\n",
    "      - type `1+2`   <br><br> \n",
    "      - type print(\"Hello World\")  <br><br>\n",
    "  \n",
    "\n",
    "###  Self-contained Python scripts \n",
    "\n",
    "Self-contained Python scripts : Running Python snippets line by line is useful in some cases, but for more complicated programs it is more convenient to save code to file, and execute it all at once. By convention, Python scripts are saved in files with a .py extension <br><br>\n",
    "   \n",
    "   - To run a Python script, navigate where the python file is located  <br><br>\n",
    "   - run the command `python filename.py`  <br><br>\n",
    "   - Alternatively, right click on the `python filename.py`  and select run in the terminal or use the run button on Vscode\n",
    "\n",
    "\n",
    "###  Jupyter Notebook \n",
    "\n",
    "\n",
    "Jupyter Notebook: Jupyter Notebook is an interactive computing environment that allows you to create and share documents that contain live code, equations, visualizations and narrative text. Uses include: data cleaning and transformation, numerical simulation, statistical modeling, data visualization, machine learning, and much more.  <br><br>\n",
    "\n",
    "   \n",
    "#### Key Features of Jupyter Notebooks:\n",
    "\n",
    "- Interactive Coding: Run code cells interactively.\n",
    "\n",
    "- Rich Text Support: Integrate markdown and LaTeX for formatting and documentation.\n",
    "\n",
    "- Data Visualization: Support for visual output like graphs and charts.\n",
    "\n",
    "- Multiple Languages: Support for various programming languages (Python, R, Julia, etc.), with Python being the most popular.\n",
    "\n",
    "\n",
    "\n",
    "\n"
   ]
  },
  {
   "cell_type": "markdown",
   "metadata": {},
   "source": [
    "###  Create a New Notebook\n",
    "\n",
    "- Create a New Notebook\n",
    "- Rename your notebook by clicking on \"Untitled\" at the top and entering a new name\n",
    "\n",
    "### Understanding cells\n",
    "\n",
    "- Code Cells: For writing and running code\n",
    "- Markdown Cells: For writing formatted text using Markdown.\n",
    "  \n",
    "\n",
    "  ### Running Code Cells\n",
    "\n",
    "  - Type Python code in a code cell and press Shift + Enter to execute.\n",
    "  -  The output will appear directly below the cell.\n",
    "\n",
    "\n",
    "###  Adding Text with Markdown Cells\n",
    "\n",
    "- Markdown cells allow you to write and format text using Markdown.\n",
    "- Markdown cells can be used to add headings, lists, links, images, and more.\n",
    "- Markdown  cells can be used to add paragraphs and bullet points. For example you can add paragraphs and bullet points as shown below:\n",
    "  \n",
    "  - To add a new cell, click on the \"+\" button in the toolbar and select the cell type.\n",
    "  - To change the cell type, click on the cell and select the desired type from the dropdown menu in the toolbar.\n",
    "  - To edit a cell, double-click on it.\n",
    "  - To render a cell, press Shift + Enter.\n",
    "  - To delete a cell, click on the delete icon in the toolbar.\n",
    "  - To move a cell, click on the cell and use the up and down arrows in the toolbar.\n",
    "\n"
   ]
  },
  {
   "cell_type": "code",
   "execution_count": 4,
   "metadata": {},
   "outputs": [
    {
     "data": {
      "image/png": "[encoded data removed]",
      "text/plain": [
       "<Figure size 640x480 with 1 Axes>"
      ]
     },
     "metadata": {},
     "output_type": "display_data"
    }
   ],
   "source": [
    "import matplotlib.pyplot as plt\n",
    "\n",
    "x = [1, 2, 3, 4, 5]\n",
    "y = [10, 20, 30, 40, 50]\n",
    "\n",
    "plt.plot(x, y)\n",
    "plt.title(\"Sample Plot\")\n",
    "plt.xlabel(\"X-axis\")\n",
    "plt.ylabel(\"Y-axis\")\n",
    "plt.show()"
   ]
  },
  {
   "cell_type": "markdown",
   "metadata": {},
   "source": [
    "Managing Python Enviroment : Pipenv vs virtualenv vs conda environment"
   ]
  },
  {
   "cell_type": "markdown",
   "metadata": {},
   "source": [
    "## Installing Python Packages"
   ]
  },
  {
   "cell_type": "markdown",
   "metadata": {},
   "source": [
    "### Pip\n",
    "\n",
    "> PIP is a package management system used to install and manage software packages written in Python. It stands for “preferred installer program” or “Pip Installs Packages.”\n",
    ">\n",
    "- If you installed Python from source, with an installer from python.org, or via Homebrew you should already have pip. <br><br>\n",
    "- pip is the package installer for Python <br><br>\n",
    "- It’s a tool to install python packages from the Python Package Index(PyPi). PyPi is the central repository for all the open-source and third-party python packages <br><br>\n",
    "- It is the most popular way to install, upgrade, and remove third-party libraries.  <br><br>\n",
    "- pip doesn’t usually come with standard python installation and we have to install pip separately. But, from python 3.4 version, pip is a part of the standard installation <br><br>"
   ]
  },
  {
   "cell_type": "markdown",
   "metadata": {},
   "source": [
    "### Ensure pip, setuptools, and wheel are up to date\n",
    "\n",
    "- python3 -m pip install --upgrade pip setuptools wheel\n",
    "- py -m pip install --upgrade pip setuptools wheel\n",
    "\n"
   ]
  },
  {
   "cell_type": "code",
   "execution_count": null,
   "metadata": {},
   "outputs": [],
   "source": [
    "! pip install sklearn "
   ]
  },
  {
   "cell_type": "markdown",
   "metadata": {},
   "source": [
    "### Installation using pip"
   ]
  },
  {
   "cell_type": "markdown",
   "metadata": {},
   "source": [
    " - On command Line: use Pip install ... <br></br>\n",
    " - Jupyter or Ipython : f you’re using an enhanced shell like IPython or the Jupyter notebook, you can run system commands like those in this tutorial by prefacing them with a ! character"
   ]
  },
  {
   "cell_type": "markdown",
   "metadata": {},
   "source": [
    "## Conda\n",
    "\n",
    "To install conda packages, in the terminal or an Anaconda Prompt, run:\n",
    "\n"
   ]
  },
  {
   "cell_type": "markdown",
   "metadata": {},
   "source": [
    "- conda install [packagename] <br></br>\n",
    "- conda update is used to update to the latest compatible version. conda install can be used to install any version\n",
    "\n"
   ]
  },
  {
   "cell_type": "markdown",
   "metadata": {},
   "source": [
    "> Conda uses the same rules for other packages. conda update always installs the highest version with the same major version number, whereas conda install always installs the highest version"
   ]
  },
  {
   "cell_type": "markdown",
   "metadata": {},
   "source": [
    "- If Python 2.7.0 is currently installed, and the latest version of Python 2 is 2.7.5, then conda update python installs Python 2.7.5. It does not install Python 3. <br></br>\n",
    "- If Python 3.7.0 is currently installed, and the latest version of Python is 3.9.0, then conda install python=3 installs Python 3.9.0. <br></br>"
   ]
  },
  {
   "cell_type": "markdown",
   "metadata": {},
   "source": [
    "##  Virtual Environments\n",
    "\n",
    "\n",
    "- A virtual environment is a tool that helps to keep dependencies required by different projects separate by creating isolated spaces for them that contain per-project dependencies for them rather than being installed globally. <br></br>\n",
    "\n",
    "\n",
    "- Users can create virtual environments using one of several tools such as Pipenv or Poetry, or a conda virtual environment. Pipenv and Poetry are based around Python's built-in venv library, whereas conda has its own notion of virtual environments that is lower-level (Python itself is a dependency provided in conda environments).\n",
    "\n",
    "\n",
    "\n"
   ]
  },
  {
   "cell_type": "markdown",
   "metadata": {},
   "source": [
    "### How to create Virtual enviroment?\n",
    "\n",
    "- Create an enviorment <br></br>\n",
    "- Install python packages"
   ]
  },
  {
   "cell_type": "markdown",
   "metadata": {},
   "source": [
    "Conda Cheetsheet: [here](https://docs.conda.io/projects/conda/en/latest/user-guide/cheatsheet.html)\n",
    "More info: [Conda Enviroment Management](https://docs.conda.io/projects/conda/en/latest/user-guide/tasks/manage-environments.html#creating-an-environment-with-commands)"
   ]
  },
  {
   "cell_type": "markdown",
   "metadata": {},
   "source": [
    "### Use pip for Installing¶"
   ]
  },
  {
   "cell_type": "markdown",
   "metadata": {},
   "source": [
    "To install latest version of some project"
   ]
  },
  {
   "cell_type": "markdown",
   "metadata": {},
   "source": [
    "- py -m pip install \"SomeProject\"\n"
   ]
  },
  {
   "cell_type": "markdown",
   "metadata": {},
   "source": [
    "To install a specific version:\n",
    "\n"
   ]
  },
  {
   "cell_type": "markdown",
   "metadata": {},
   "source": [
    "- py -m pip install \"SomeProject==1.4\"\n"
   ]
  },
  {
   "cell_type": "markdown",
   "metadata": {},
   "source": [
    "### Upgrading packages"
   ]
  },
  {
   "cell_type": "markdown",
   "metadata": {},
   "source": [
    "Upgrade an already installed SomeProject to the latest from PyPI.\n",
    "\n"
   ]
  },
  {
   "cell_type": "markdown",
   "metadata": {},
   "source": [
    "- py -m pip install --upgrade SomeProject\n"
   ]
  },
  {
   "cell_type": "markdown",
   "metadata": {},
   "source": [
    "### Requirements files¶\n",
    "\n",
    "“Requirements files” are files containing a list of items to be installed using pip install like so:\n",
    "\n",
    "\n"
   ]
  },
  {
   "cell_type": "markdown",
   "metadata": {},
   "source": [
    "- python -m pip install -r requirements.txt\n"
   ]
  },
  {
   "cell_type": "markdown",
   "metadata": {},
   "source": [
    "### Installing from VCS"
   ]
  },
  {
   "cell_type": "markdown",
   "metadata": {},
   "source": [
    "- py -m pip install -e git+https://git.repo/some_pkg.git#egg=SomeProject          # from git\n"
   ]
  }
 ],
 "metadata": {
  "kernelspec": {
   "display_name": "Python 3",
   "language": "python",
   "name": "python3"
  },
  "language_info": {
   "codemirror_mode": {
    "name": "ipython",
    "version": 3
   },
   "file_extension": ".py",
   "mimetype": "text/x-python",
   "name": "python",
   "nbconvert_exporter": "python",
   "pygments_lexer": "ipython3",
   "version": "3.9.13"
  }
 },
 "nbformat": 4,
 "nbformat_minor": 2
}
